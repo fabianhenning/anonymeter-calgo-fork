{
 "cells": [
  {
   "cell_type": "markdown",
   "id": "66b36556-e9af-4cf9-bb9c-25f12d3fc322",
   "metadata": {},
   "source": [
    "# Anonymeter example notebook\n",
    "\n",
    "This example notebook demonstrates the usage of `Anonymeter`, a software to derive GDPR-aligned measures of the privacy of synthetic datasets in an empirical, attack based fashion.\n",
    "\n",
    "`Anonymeter` contains privacy evaluators which measures the risks of singling out, linkability, and inference which might incur to data donors following the release of synthetic dataset. These risk are the three key indicators of factual anonymization according to the European General Data Protection Regulation (GDPR). For more details, please refer to [M. Giomi et al. 2022](https://petsymposium.org/popets/2023/popets-2023-0055.php)."
   ]
  },
  {
   "cell_type": "markdown",
   "id": "1062da6f-d56e-48a5-b62f-fe987e7682fe",
   "metadata": {},
   "source": [
    "### Basic usage pattern\n",
    "\n",
    "For each of these privacy risks anonymeter provide an `Evaluator` class. The high-level classes `SinglingOutEvaluator`, `LinkabilityEvaluator`, and `InferenceEvaluator` are the only thing that you need to import from `Anonymeter`.\n",
    "\n",
    "Despite the different nature of the privacy risks they evaluate, these classes have the same interface and are used in the same way. To instantiate the evaluator you have to provide three dataframes: the original dataset `ori` which has been used to generate the synthetic data, the synthetic data `syn`, and a `control` dataset containing original records which have not been used to generate the synthetic data. \n",
    "\n",
    "Another parameter common to all evaluators is the number of target records to attack (`n_attacks`). A higher number will reduce the statistical uncertainties on the results, at the expense of a longer computation time.\n",
    "\n",
    "```python\n",
    "evaluator = *Evaluator(ori: pd.DataFrame, \n",
    "                       syn: pd.DataFrame, \n",
    "                       control: pd.DataFrame,\n",
    "                       n_attacks: int)\n",
    "```\n",
    "\n",
    "Once instantiated the evaluation pipeline is executed when calling the `evaluate`, and the resulting estimate of the risk can be accessed using the `risk()` method.\n",
    "\n",
    "```python\n",
    "evaluator.evaluate()\n",
    "risk = evaluator.risk()\n",
    "```"
   ]
  },
  {
   "cell_type": "markdown",
   "id": "cb9d6771-69f3-4e49-b143-d5d0bae3ba3c",
   "metadata": {},
   "source": [
    "### A peak under the hood\n",
    "\n",
    "In `Anonymeter` each privacy risk is derived from a privacy attacker whose task is to use the synthetic dataset to come up with a set of *guesses* of the form:\n",
    "- \"there is only one person with attributes X, Y, and Z\" (singling out)\n",
    "- \"records A and B belong to the same person\" (linkability)\n",
    "- \"a person with attributes X and Y also have Z\" (inference)\n",
    "\n",
    "Each evaluation consists of running three different attacks:\n",
    "- the \"main\" privacy attack, in which the attacker uses the synthetic data to guess information on records in the original data.\n",
    "- the \"control\" privacy attack, in which the attacker uses the synthetic data to guess information on records in the control dataset. \n",
    "- the \"baseline\" attack, which models a naive attacker who ignores the synthetic data and guess randomly.\n",
    "\n",
    "Checking how many of these guesses are correct, the success rates of the different attacks are measured and used to derive an estimate of the privacy risk. In particular, the \"control attack\" is used to separate what the attacker learns from the *utility* of the synthetic data, and what is instead indication of privacy leaks. The \"baseline attack\" instead functions as a sanity check. The \"main attack\" attack should outperform random guessing in order for the results to be trusted. "
   ]
  },
  {
   "cell_type": "code",
   "execution_count": 1,
   "id": "c64a6fab-1676-4539-b460-5b2fdb456b04",
   "metadata": {
    "tags": []
   },
   "outputs": [],
   "source": [
    "import os\n",
    "import pandas as pd\n",
    "import matplotlib.pyplot as plt\n",
    "import seaborn as sns\n",
    "\n",
    "from anonymeter.evaluators import SinglingOutEvaluator\n",
    "from anonymeter.evaluators import LinkabilityEvaluator\n",
    "from anonymeter.evaluators import InferenceEvaluator"
   ]
  },
  {
   "cell_type": "markdown",
   "id": "ada19947-b895-4279-aac3-9b87fac2fa6b",
   "metadata": {},
   "source": [
    "## Downloading the data\n",
    "\n",
    "For this example, we will use the famous `Adults` (more details [here](https://archive.ics.uci.edu/ml/datasets/adult)) dataset. This dataset contains aggregated census data, where every row represent a population segment. For the purpose of demonstrating `Anonymeter`, we will use this data as if each row would in fact refer to a real individual. \n",
    "\n",
    "The synthetic version has been generated by `CTGAN` from [SDV](https://sdv.dev/SDV/user_guides/single_table/ctgan.html), as explained in the paper accompanying this code release. For details on the generation process, e.g. regarding hyperparameters, see Section 6.2.1 of [the accompanying paper](https://petsymposium.org/popets/2023/popets-2023-0055.php))."
   ]
  },
  {
   "cell_type": "code",
   "execution_count": 2,
   "id": "fc128115-2f0c-43b1-9198-5c5594eae7f3",
   "metadata": {
    "tags": []
   },
   "outputs": [],
   "source": [
    "dataset_dir = \"./datasets/\"\n",
    "\n",
    "ori = pd.read_csv(os.path.join(dataset_dir, \"adults_train.csv\"))\n",
    "syn = pd.read_csv(os.path.join(dataset_dir, \"adults_syn_ctgan.csv\"))\n",
    "control = pd.read_csv(os.path.join(dataset_dir, \"adults_control.csv\"))"
   ]
  },
  {
   "cell_type": "code",
   "execution_count": 3,
   "id": "f6abeed8-23ae-4d4a-9cdb-006c0bba109c",
   "metadata": {
    "tags": []
   },
   "outputs": [
    {
     "data": {
      "text/html": [
       "<div>\n",
       "<style scoped>\n",
       "    .dataframe tbody tr th:only-of-type {\n",
       "        vertical-align: middle;\n",
       "    }\n",
       "\n",
       "    .dataframe tbody tr th {\n",
       "        vertical-align: top;\n",
       "    }\n",
       "\n",
       "    .dataframe thead th {\n",
       "        text-align: right;\n",
       "    }\n",
       "</style>\n",
       "<table border=\"1\" class=\"dataframe\">\n",
       "  <thead>\n",
       "    <tr style=\"text-align: right;\">\n",
       "      <th></th>\n",
       "      <th>age</th>\n",
       "      <th>type_employer</th>\n",
       "      <th>fnlwgt</th>\n",
       "      <th>education</th>\n",
       "      <th>education_num</th>\n",
       "      <th>marital</th>\n",
       "      <th>occupation</th>\n",
       "      <th>relationship</th>\n",
       "      <th>race</th>\n",
       "      <th>sex</th>\n",
       "      <th>capital_gain</th>\n",
       "      <th>capital_loss</th>\n",
       "      <th>hr_per_week</th>\n",
       "      <th>country</th>\n",
       "      <th>income</th>\n",
       "    </tr>\n",
       "  </thead>\n",
       "  <tbody>\n",
       "    <tr>\n",
       "      <th>0</th>\n",
       "      <td>53</td>\n",
       "      <td>Self-emp-not-inc</td>\n",
       "      <td>138022</td>\n",
       "      <td>11th</td>\n",
       "      <td>7</td>\n",
       "      <td>Divorced</td>\n",
       "      <td>Craft-repair</td>\n",
       "      <td>Not-in-family</td>\n",
       "      <td>White</td>\n",
       "      <td>Male</td>\n",
       "      <td>0</td>\n",
       "      <td>0</td>\n",
       "      <td>60</td>\n",
       "      <td>United-States</td>\n",
       "      <td>&lt;=50K</td>\n",
       "    </tr>\n",
       "    <tr>\n",
       "      <th>1</th>\n",
       "      <td>31</td>\n",
       "      <td>Private</td>\n",
       "      <td>344200</td>\n",
       "      <td>HS-grad</td>\n",
       "      <td>9</td>\n",
       "      <td>Married-civ-spouse</td>\n",
       "      <td>Exec-managerial</td>\n",
       "      <td>Husband</td>\n",
       "      <td>White</td>\n",
       "      <td>Male</td>\n",
       "      <td>0</td>\n",
       "      <td>0</td>\n",
       "      <td>40</td>\n",
       "      <td>United-States</td>\n",
       "      <td>&gt;50K</td>\n",
       "    </tr>\n",
       "    <tr>\n",
       "      <th>2</th>\n",
       "      <td>28</td>\n",
       "      <td>Private</td>\n",
       "      <td>242482</td>\n",
       "      <td>HS-grad</td>\n",
       "      <td>9</td>\n",
       "      <td>Never-married</td>\n",
       "      <td>Handlers-cleaners</td>\n",
       "      <td>Own-child</td>\n",
       "      <td>White</td>\n",
       "      <td>Male</td>\n",
       "      <td>0</td>\n",
       "      <td>0</td>\n",
       "      <td>40</td>\n",
       "      <td>United-States</td>\n",
       "      <td>&lt;=50K</td>\n",
       "    </tr>\n",
       "    <tr>\n",
       "      <th>3</th>\n",
       "      <td>26</td>\n",
       "      <td>Private</td>\n",
       "      <td>193165</td>\n",
       "      <td>Some-college</td>\n",
       "      <td>10</td>\n",
       "      <td>Married-civ-spouse</td>\n",
       "      <td>Transport-moving</td>\n",
       "      <td>Husband</td>\n",
       "      <td>White</td>\n",
       "      <td>Male</td>\n",
       "      <td>0</td>\n",
       "      <td>0</td>\n",
       "      <td>52</td>\n",
       "      <td>United-States</td>\n",
       "      <td>&gt;50K</td>\n",
       "    </tr>\n",
       "    <tr>\n",
       "      <th>4</th>\n",
       "      <td>27</td>\n",
       "      <td>Private</td>\n",
       "      <td>267989</td>\n",
       "      <td>Some-college</td>\n",
       "      <td>10</td>\n",
       "      <td>Married-civ-spouse</td>\n",
       "      <td>Machine-op-inspct</td>\n",
       "      <td>Husband</td>\n",
       "      <td>White</td>\n",
       "      <td>Male</td>\n",
       "      <td>0</td>\n",
       "      <td>0</td>\n",
       "      <td>40</td>\n",
       "      <td>United-States</td>\n",
       "      <td>&lt;=50K</td>\n",
       "    </tr>\n",
       "  </tbody>\n",
       "</table>\n",
       "</div>"
      ],
      "text/plain": [
       "   age     type_employer  fnlwgt     education  education_num  \\\n",
       "0   53  Self-emp-not-inc  138022          11th              7   \n",
       "1   31           Private  344200       HS-grad              9   \n",
       "2   28           Private  242482       HS-grad              9   \n",
       "3   26           Private  193165  Some-college             10   \n",
       "4   27           Private  267989  Some-college             10   \n",
       "\n",
       "              marital         occupation   relationship   race   sex  \\\n",
       "0            Divorced       Craft-repair  Not-in-family  White  Male   \n",
       "1  Married-civ-spouse    Exec-managerial        Husband  White  Male   \n",
       "2       Never-married  Handlers-cleaners      Own-child  White  Male   \n",
       "3  Married-civ-spouse   Transport-moving        Husband  White  Male   \n",
       "4  Married-civ-spouse  Machine-op-inspct        Husband  White  Male   \n",
       "\n",
       "   capital_gain  capital_loss  hr_per_week        country income  \n",
       "0             0             0           60  United-States  <=50K  \n",
       "1             0             0           40  United-States   >50K  \n",
       "2             0             0           40  United-States  <=50K  \n",
       "3             0             0           52  United-States   >50K  \n",
       "4             0             0           40  United-States  <=50K  "
      ]
     },
     "execution_count": 3,
     "metadata": {},
     "output_type": "execute_result"
    }
   ],
   "source": [
    "ori.head()"
   ]
  },
  {
   "cell_type": "markdown",
   "id": "f1d19013-b7cf-48e3-a068-6c1e5449884e",
   "metadata": {},
   "source": [
    "As visible the dataset contains several demographic information, as well as information regarding the education, financial situation, and personal life of some tens of thousands of \"individuals\"."
   ]
  },
  {
   "cell_type": "markdown",
   "id": "52811434-e3ed-464e-8bbc-eafb1dfe0eb1",
   "metadata": {
    "tags": []
   },
   "source": [
    "### Measuring the singling out risk\n",
    "\n",
    "The `SinglingOutEvaluator` try to measure how much the synthetic data can help an attacker finding combination of attributes that single out records in the training data. \n",
    "\n",
    "With the following code we evaluate the robustness of the synthetic data to \"univariate\" singling out attacks, which try to find unique values of some attribute which single out an individual. \n",
    "\n",
    "\n",
    "##### NOTE:\n",
    "\n",
    "The `SingingOutEvaluator` can sometimes raise a `RuntimeError`. This happens when not enough singling out queries are found. Increasing `n_attacks` will make this condition less frequent and the evaluation more robust, although much slower.\n"
   ]
  },
  {
   "cell_type": "code",
   "execution_count": 4,
   "id": "43acdda6-19d5-4611-ba4f-498fc7bd2d40",
   "metadata": {},
   "outputs": [
    {
     "name": "stdout",
     "output_type": "stream",
     "text": [
      "PrivacyRisk(value=0.013741062122476706, ci=(0.0, 0.034101211562263624))\n"
     ]
    }
   ],
   "source": [
    "evaluator = SinglingOutEvaluator(ori=ori, \n",
    "                                 syn=syn, \n",
    "                                 control=control,\n",
    "                                 n_attacks=500)\n",
    "\n",
    "try:\n",
    "    evaluator.evaluate(mode='univariate')\n",
    "    risk = evaluator.risk()\n",
    "    print(risk)\n",
    "\n",
    "except RuntimeError as ex: \n",
    "    print(f\"Singling out evaluation failed with {ex}. Please re-run this cell.\"\n",
    "          \"For more stable results increase `n_attacks`. Note that this will \"\n",
    "          \"make the evaluation slower.\")"
   ]
  },
  {
   "cell_type": "markdown",
   "id": "f753a354-50c1-4209-933a-a51291c03306",
   "metadata": {},
   "source": [
    "The risk estimate is accompanied by a confidence interval (at 95% level by default) which accounts for the finite number of attacks performed, 500 in this case. \n",
    "\n",
    "Using the `queries()` method, we can see what kind of singling out queries (i.e. the *guesses*) the attacker has come up with:"
   ]
  },
  {
   "cell_type": "code",
   "execution_count": 5,
   "id": "4af6f284-81a3-4b84-a39b-b2beb6a21b24",
   "metadata": {},
   "outputs": [
    {
     "data": {
      "text/plain": [
       "['fnlwgt == 34465', 'fnlwgt == 95255', 'fnlwgt == 270228']"
      ]
     },
     "execution_count": 5,
     "metadata": {},
     "output_type": "execute_result"
    }
   ],
   "source": [
    "evaluator.queries()[:3]"
   ]
  },
  {
   "cell_type": "markdown",
   "id": "abc36183-03c4-4612-80cd-c1b3849cb04e",
   "metadata": {},
   "source": [
    "As visible, the attack is picking up on the `fnlwgt` column, which has many (~63%) unique integer values and therefore provides a powerful handle for singling out. This should result in a singling out risk which is *compatible* within the confidence level with a few percentage points. The actual results can vary depending on notebook execution. "
   ]
  },
  {
   "cell_type": "markdown",
   "id": "b0693e9c-0f69-4c4c-b506-4e7bd7190031",
   "metadata": {},
   "source": [
    "### Inspecting the results in more details"
   ]
  },
  {
   "cell_type": "markdown",
   "id": "f7db3b47-22e3-4d1f-8495-770799c378cc",
   "metadata": {},
   "source": [
    "There are two methods to inspect the results. The high level `risk()` method gives the high level estimation of the privacy risk, and its confidence interval."
   ]
  },
  {
   "cell_type": "code",
   "execution_count": 6,
   "id": "4ea008ba-05a8-47b2-a316-132fe628cae3",
   "metadata": {},
   "outputs": [
    {
     "data": {
      "text/plain": [
       "PrivacyRisk(value=0.013741062122476706, ci=(0.0, 0.034101211562263624))"
      ]
     },
     "execution_count": 6,
     "metadata": {},
     "output_type": "execute_result"
    }
   ],
   "source": [
    "evaluator.risk(confidence_level=0.95)"
   ]
  },
  {
   "cell_type": "markdown",
   "id": "ba233989-5556-4f89-8037-1c26d78c8127",
   "metadata": {},
   "source": [
    "for more information, the `results()` method gives the success rates of the three attacks (the \"main\" one, the baseline one, and the one against control) that enters `Anonymeter` risk calculation."
   ]
  },
  {
   "cell_type": "code",
   "execution_count": 7,
   "id": "367928ba-7a1e-4c20-9dc6-84c490873700",
   "metadata": {},
   "outputs": [
    {
     "name": "stdout",
     "output_type": "stream",
     "text": [
      "Successs rate of main attack: SuccessRate(value=0.03556819133600645, error=0.015776677709435333)\n",
      "Successs rate of baseline attack: SuccessRate(value=0.0038121702307761206, error=0.00381217023077612)\n",
      "Successs rate of control attack: SuccessRate(value=0.022131235900891076, error=0.012313616009370306)\n"
     ]
    }
   ],
   "source": [
    "res = evaluator.results()\n",
    "\n",
    "print(\"Successs rate of main attack:\", res.attack_rate)\n",
    "print(\"Successs rate of baseline attack:\", res.baseline_rate)\n",
    "print(\"Successs rate of control attack:\", res.control_rate)"
   ]
  },
  {
   "cell_type": "markdown",
   "id": "8543aad4-897c-4e80-96a7-a47aea1caf22",
   "metadata": {},
   "source": [
    "Note that you can obtain the `PrivacyRisk` from the attack results by:"
   ]
  },
  {
   "cell_type": "code",
   "execution_count": 8,
   "id": "d1081269-1830-430f-8305-9f254641de89",
   "metadata": {},
   "outputs": [
    {
     "data": {
      "text/plain": [
       "PrivacyRisk(value=0.013741062122476706, ci=(0.0, 0.034101211562263624))"
      ]
     },
     "execution_count": 8,
     "metadata": {},
     "output_type": "execute_result"
    }
   ],
   "source": [
    "res.risk()"
   ]
  },
  {
   "cell_type": "markdown",
   "id": "00f4e993-defe-4c83-a4b3-da2cdf2ca02f",
   "metadata": {},
   "source": [
    "### Checking singling out with multivariate predicates\n",
    "\n",
    "The `SinglingOutEvaluator` can also attack the dataset using predicates which are combining different attributes. These are the so called `multivariate` predicates. \n",
    "\n",
    "To run the analysis using the `multivariate` singling out attack, the `mode` parameter of `evaluate` needs to be set correctly. The number of attributes used in the attacker queries via the `n_cols` parameter, set to 4 in this example. "
   ]
  },
  {
   "cell_type": "code",
   "execution_count": 9,
   "id": "1a875b5f-4f75-4585-83b5-d0703ac82f90",
   "metadata": {
    "tags": []
   },
   "outputs": [
    {
     "name": "stdout",
     "output_type": "stream",
     "text": [
      "PrivacyRisk(value=0.02878005056752415, ci=(0.0, 0.1380156613265963))\n"
     ]
    }
   ],
   "source": [
    "evaluator = SinglingOutEvaluator(ori=ori, \n",
    "                                 syn=syn, \n",
    "                                 control=control,\n",
    "                                 n_attacks=100, # this attack takes longer\n",
    "                                 n_cols=4)\n",
    "\n",
    "\n",
    "try:\n",
    "    evaluator.evaluate(mode='multivariate')\n",
    "    risk = evaluator.risk()\n",
    "    print(risk)\n",
    "\n",
    "except RuntimeError as ex: \n",
    "    print(f\"Singling out evaluation failed with {ex}. Please re-run this cell.\"\n",
    "          \"For more stable results increase `n_attacks`. Note that this will \"\n",
    "          \"make the evaluation slower.\")"
   ]
  },
  {
   "cell_type": "code",
   "execution_count": 10,
   "id": "786dbb5b-6b52-41c1-8d07-2d9467a3d649",
   "metadata": {},
   "outputs": [
    {
     "data": {
      "text/plain": [
       "[\"education== '9th' & occupation== 'Other-service' & race== 'Amer-Indian-Eskimo' & sex== 'Male'\",\n",
       " \"education== '9th' & income== '>50K' & occupation== 'Other-service' & sex== 'Female'\",\n",
       " \"age<= 24 & capital_gain<= 0 & country== 'Ireland' & education_num>= 11\"]"
      ]
     },
     "execution_count": 10,
     "metadata": {},
     "output_type": "execute_result"
    }
   ],
   "source": [
    "evaluator.queries()[:3]"
   ]
  },
  {
   "cell_type": "markdown",
   "id": "acff772b-3f99-402d-b1b6-01b0e09bd5b1",
   "metadata": {},
   "source": [
    "# Measuring the Linkability risk\n",
    "\n",
    "The `LinkabilityEvaluator` allows one to know how much the synthetic data will help an adversary who tries to link two other datasets based on a subset of attributes. \n",
    "\n",
    "For example, suppose that the adversary finds dataset A containing, among other fields, information about the profession and education of people, and dataset B containing some demographic and health related information. Can the attacker use the synthetic dataset to link these two datasets?\n",
    "\n",
    "To run the `LinkabilityEvaluator` one needs to specify which columns of auxiliary information are available to the attacker, and how they are distributed between the two datasets A and B. This is done using the `aux_cols` parameter."
   ]
  },
  {
   "cell_type": "code",
   "execution_count": 11,
   "id": "dad588b3-b241-4256-ac11-ae73d9206782",
   "metadata": {},
   "outputs": [
    {
     "data": {
      "text/plain": [
       "PrivacyRisk(value=0.0, ci=(0.0, 0.001915371248414205))"
      ]
     },
     "execution_count": 11,
     "metadata": {},
     "output_type": "execute_result"
    }
   ],
   "source": [
    "aux_cols = [\n",
    "    ['type_employer', 'education', 'hr_per_week', 'capital_loss', 'capital_gain'],\n",
    "    [ 'race', 'sex', 'fnlwgt', 'age', 'country']\n",
    "]\n",
    "\n",
    "evaluator = LinkabilityEvaluator(ori=ori, \n",
    "                                 syn=syn, \n",
    "                                 control=control,\n",
    "                                 n_attacks=2000,\n",
    "                                 aux_cols=aux_cols,\n",
    "                                 n_neighbors=10)\n",
    "\n",
    "evaluator.evaluate(n_jobs=-2)  # n_jobs follow joblib convention. -1 = all cores, -2 = all execept one\n",
    "evaluator.risk()"
   ]
  },
  {
   "cell_type": "code",
   "execution_count": 12,
   "id": "321da78a-d695-4d7c-8a62-f1a226bfc04a",
   "metadata": {},
   "outputs": [
    {
     "name": "stdout",
     "output_type": "stream",
     "text": [
      "Successs rate of main attack: SuccessRate(value=0.003453731022423335, error=0.00238542229400942)\n",
      "Successs rate of baseline attack: SuccessRate(value=0.0014575651169858408, error=0.001369297386280373)\n",
      "Successs rate of control attack: SuccessRate(value=0.005449896927860829, error=0.0030806162908989933)\n"
     ]
    }
   ],
   "source": [
    "res = evaluator.results()\n",
    "\n",
    "print(\"Successs rate of main attack:\", res.attack_rate)\n",
    "print(\"Successs rate of baseline attack:\", res.baseline_rate)\n",
    "print(\"Successs rate of control attack:\", res.control_rate)"
   ]
  },
  {
   "cell_type": "markdown",
   "id": "f0190af5-a184-46cf-a048-30ecbe82fd51",
   "metadata": {},
   "source": [
    "As visible, the attack is not very successful and the linkability risk is low. The `n_neighbor` parameter can be used to allow for weaker indirect links to be scored as successes. It will have an impact on the risk estimate. To check the measured risk for different values of `n_neighbor` you don't have to re-run the evaluation. Rather, do:"
   ]
  },
  {
   "cell_type": "code",
   "execution_count": 13,
   "id": "c4d3644a-dd36-4807-aa3f-cf244cfd5d55",
   "metadata": {},
   "outputs": [
    {
     "name": "stdout",
     "output_type": "stream",
     "text": [
      "PrivacyRisk(value=0.0, ci=(0.0, 0.0007611013198481277))\n"
     ]
    }
   ],
   "source": [
    "print(evaluator.risk(n_neighbors=7))"
   ]
  },
  {
   "cell_type": "markdown",
   "id": "0429baae-424d-4ebe-b8ec-9205397515ba",
   "metadata": {},
   "source": [
    "# Measuring the Inference Risk\n",
    "\n",
    "Finally, `anonymeter` allows to measure the inference risk. It does so by measuring the success of an attacker that tries to discover the value of some secret attribute for a set of target records on which some auxiliary knowledge is available.\n",
    "\n",
    "Similar to the case of the `LinkabilityEvaluator`, the main parameter here is `aux_cols` which specify what the attacker knows about its target, i.e. which columns are known to the attacker. By selecting the `secret` column, one can identify which attributes, alone or in combinations, exhibit the largest risks and thereby expose a lot of information on the original data.\n",
    "\n",
    "In the following snippet we will measure the inference risk for each column individually, using all the other columns as auxiliary information to model a very knowledgeable attacker. "
   ]
  },
  {
   "cell_type": "code",
   "execution_count": 14,
   "id": "6c07054c-7ced-46c3-8a12-14123f6cc965",
   "metadata": {
    "tags": []
   },
   "outputs": [
    {
     "name": "stderr",
     "output_type": "stream",
     "text": [
      "/home/matteo/work/gits/anonymeter/src/anonymeter/stats/confidence.py:218: UserWarning: Attack is as good or worse as baseline model. Estimated rates: attack = 0.25195286286290325, baseline = 0.255937555828961. Analysis results cannot be trusted.\n",
      "  self._sanity_check()\n"
     ]
    }
   ],
   "source": [
    "columns = ori.columns\n",
    "results = []\n",
    "\n",
    "for secret in columns:\n",
    "    \n",
    "    aux_cols = [col for col in columns if col != secret]\n",
    "    \n",
    "    evaluator = InferenceEvaluator(ori=ori, \n",
    "                                   syn=syn, \n",
    "                                   control=control,\n",
    "                                   aux_cols=aux_cols,\n",
    "                                   secret=secret,\n",
    "                                   n_attacks=1000)\n",
    "    evaluator.evaluate(n_jobs=-2)\n",
    "    results.append((secret, evaluator.results()))"
   ]
  },
  {
   "cell_type": "code",
   "execution_count": 15,
   "id": "0e492eeb-d296-4973-a08e-c5afc0ac36b5",
   "metadata": {
    "tags": []
   },
   "outputs": [
    {
     "data": {
      "image/png": "[encoded data removed]",
      "text/plain": [
       "<Figure size 640x480 with 1 Axes>"
      ]
     },
     "metadata": {},
     "output_type": "display_data"
    }
   ],
   "source": [
    "fig, ax = plt.subplots()\n",
    "\n",
    "risks = [res[1].risk().value for res in results]\n",
    "columns = [res[0] for res in results]\n",
    "\n",
    "ax.bar(x=columns, height=risks, alpha=0.5, ecolor='black', capsize=10)\n",
    "\n",
    "plt.xticks(rotation=45, ha='right')\n",
    "ax.set_ylabel(\"Measured inference risk\")\n",
    "_ = ax.set_xlabel(\"Secret column\")"
   ]
  },
  {
   "cell_type": "markdown",
   "id": "b3e8c81d-7813-4779-8e27-3a633ec20ee7",
   "metadata": {},
   "source": [
    "As visible, a few columns in the dataset carry a significant inference risk. This means that an attacker in possession of the synthetic dataset can use it to infer some attribute of records in the original data, *beyond what can be explained by utility*."
   ]
  }
 ],
 "metadata": {
  "kernelspec": {
   "display_name": "Python 3 (ipykernel)",
   "language": "python",
   "name": "python3"
  },
  "language_info": {
   "codemirror_mode": {
    "name": "ipython",
    "version": 3
   },
   "file_extension": ".py",
   "mimetype": "text/x-python",
   "name": "python",
   "nbconvert_exporter": "python",
   "pygments_lexer": "ipython3",
   "version": "3.11.11"
  },
  "vscode": {
   "interpreter": {
    "hash": "237cf5f6b3dcd73bf2688629baee50bd53e43ee0aa8f2bde7060bbd4d3c193da"
   }
  }
 },
 "nbformat": 4,
 "nbformat_minor": 5
}
